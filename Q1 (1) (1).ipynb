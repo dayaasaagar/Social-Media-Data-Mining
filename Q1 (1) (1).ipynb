{
  "nbformat": 4,
  "nbformat_minor": 0,
  "metadata": {
    "colab": {
      "provenance": []
    },
    "kernelspec": {
      "name": "python3",
      "display_name": "Python 3"
    },
    "language_info": {
      "name": "python"
    }
  },
  "cells": [
    {
      "cell_type": "code",
      "execution_count": null,
      "metadata": {
        "colab": {
          "base_uri": "https://localhost:8080/"
        },
        "id": "UDkLTVsKNq6D",
        "outputId": "b53ef1b0-c92f-4e28-ddca-a5c387fb8813"
      },
      "outputs": [
        {
          "output_type": "stream",
          "name": "stdout",
          "text": [
            "Enter marks for  Assignment No:1 (out of 100): 100\n",
            "Enter marks for  Assignment No:2 (out of 100): 100\n",
            "Enter marks for  Assignment No:3 (out of 100): 100\n",
            "Enter marks for  Midterm No: 1 (out of 150): 112\n",
            "Enter marks for  Midterm No: 2 (out of 150): 112\n",
            "Enter marks for Project  (out of 100): 99\n",
            "Student's overall percentage: 92.00%\n",
            "Student's grade letter: A+\n"
          ]
        }
      ],
      "source": [
        "class overallGradeCalculator:\n",
        "    def __init__(self):\n",
        "        self.assignment_w = 0.1\n",
        "        self.midterm_w = 0.1\n",
        "        self.project_w = 0.4\n",
        "\n",
        "    def calculate_grade(self, assignments, midterms, project):\n",
        "        # Capping grades at 100 so that it does not exceed above 100\n",
        "        assignments = [min(grade, 100) for grade in assignments]\n",
        "        midterms = [min(grade, 150) for grade in midterms]\n",
        "        project = min(project, 100)\n",
        "\n",
        "        # Calculate component grades\n",
        "        assignment_grade = sum(assignments)\n",
        "        midterm_grade = sum(midterms)\n",
        "\n",
        "        # Calculate overall grade\n",
        "        overall_grade = assignment_grade * self.assignment_w + midterm_grade * self.midterm_w + project * self.project_w\n",
        "\n",
        "        return overall_grade\n",
        "\n",
        "    @staticmethod\n",
        "    def letter_grade(percentage):\n",
        "        boundaries = {\n",
        "            90: 'A+', 85: 'A-', 80: 'B+', 75: 'B', 70: 'B-', 65: 'C+',\n",
        "            60: 'C', 55: 'C-', 50: 'D+', 45: 'D', 40: 'D-', 0: 'F'\n",
        "        }\n",
        "        for boundary, grade in boundaries.items():\n",
        "            if percentage >= boundary:\n",
        "                return grade\n",
        "\n",
        "# Input marks from the user\n",
        "assignment = [float(input(f\"Enter marks for  Assignment No:{i + 1} (out of 100): \")) for i in range(3)]\n",
        "midterm = [float(input(f\"Enter marks for  Midterm No: {i + 1} (out of 150): \")) for i in range(2)]\n",
        "project= float(input(\"Enter marks for Project  (out of 100): \"))\n",
        "\n",
        "# Calculate overall grade\n",
        "calculator = overallGradeCalculator()\n",
        "percentage = calculator.calculate_grade(assignment, midterm, project)\n",
        "\n",
        "# Get the grade letter\n",
        "grade_letter = overallGradeCalculator.letter_grade(percentage)\n",
        "\n",
        "# Display the result\n",
        "print(f\"Student's overall percentage: {percentage:.2f}%\")\n",
        "print(f\"Student's grade letter: {grade_letter}\")"
      ]
    }
  ]
}