{
  "nbformat": 4,
  "nbformat_minor": 0,
  "metadata": {
    "colab": {
      "provenance": []
    },
    "kernelspec": {
      "name": "python3",
      "display_name": "Python 3"
    },
    "language_info": {
      "name": "python"
    }
  },
  "cells": [
    {
      "cell_type": "markdown",
      "source": [
        "\n",
        "\n",
        "Q4: The question asks us to find the five nodes with the highest Page rank using the scaled page rank algorithm.\n"
      ],
      "metadata": {
        "id": "61X-WvaMgRci"
      }
    },
    {
      "cell_type": "code",
      "source": [
        "import networkx as nx\n",
        "\n",
        "#reading the input file\n",
        "file_path = \"/content/blogs(1).gml\"\n",
        "G2 = nx.read_gml(file_path)"
      ],
      "metadata": {
        "id": "4DNa7HSDh91c"
      },
      "execution_count": 1,
      "outputs": []
    },
    {
      "cell_type": "code",
      "execution_count": 3,
      "metadata": {
        "colab": {
          "base_uri": "https://localhost:8080/"
        },
        "id": "c_2fLgjgfLfZ",
        "outputId": "4d40b327-b3fc-4681-9cd0-81075969330b"
      },
      "outputs": [
        {
          "output_type": "stream",
          "name": "stdout",
          "text": [
            "Top 5 nodes with highest PageRank:\n",
            "Node: dailykos.com PageRank: 0.016983142661119246\n",
            "Node: atrios.blogspot.com PageRank: 0.013944503868725014\n",
            "Node: blogsforbush.com PageRank: 0.01231579137863908\n",
            "Node: instapundit.com PageRank: 0.011628338346471158\n",
            "Node: talkingpointsmemo.com PageRank: 0.011549922970018082\n"
          ]
        }
      ],
      "source": [
        "page_rank = nx.pagerank(G2, alpha=0.8)\n",
        "\n",
        "# Sort the nodes by PageRank value and get the top 5 nodes\n",
        "top = sorted(page_rank, key=page_rank.get, reverse=True)[:5]\n",
        "\n",
        "# Print the top 5 nodes and their PageRank values\n",
        "print(\"Top 5 nodes with highest PageRank:\")\n",
        "for node in top:\n",
        "    print(\"Node:\", node, \"PageRank:\", page_rank[node])"
      ]
    },
    {
      "cell_type": "markdown",
      "source": [
        "Q5 To find the hub and authoruty score of thie node 'realclearpolitics' using HITS algorithm to the network"
      ],
      "metadata": {
        "id": "x2oZg9uTjWEk"
      }
    },
    {
      "cell_type": "code",
      "source": [
        "#calculating hits score\n",
        "hub, authority = nx.hits(G2)\n",
        "#finding the hub of 'realclearpolitics.com'\n",
        "score_hub = hub.get('realclearpolitics.com', 0)\n",
        "print(f\"Hub score or real clearpolitics is {score_hub}\")\n",
        "#finding the authority score\n",
        "score_authority = authority.get('realclearpolitics.com', 0)\n",
        "print(f\"Authority score or real clearpolitics is {score_authority}\")"
      ],
      "metadata": {
        "colab": {
          "base_uri": "https://localhost:8080/"
        },
        "id": "6VbvoG7HjR7-",
        "outputId": "3bc436d6-f137-43c1-be39-347e98e569a8"
      },
      "execution_count": 4,
      "outputs": [
        {
          "output_type": "stream",
          "name": "stdout",
          "text": [
            "Hub score or real clearpolitics is 0.00032435561402787354\n",
            "Authority score or real clearpolitics is 0.003918957644934262\n"
          ]
        }
      ]
    },
    {
      "cell_type": "markdown",
      "source": [
        "Q6 Five nodes with the highest Hub *scores*"
      ],
      "metadata": {
        "id": "m3qyNmmSkWDp"
      }
    },
    {
      "cell_type": "code",
      "source": [
        "hub, _ = nx.hits(G2)\n",
        "top = sorted(hub, key=hub.get, reverse=True)[:5]\n",
        "print(\"Top 5 nodes having highest hub scores:\")\n",
        "for node in top:\n",
        "    print(node)"
      ],
      "metadata": {
        "colab": {
          "base_uri": "https://localhost:8080/"
        },
        "id": "lAuG7R-tkZmM",
        "outputId": "a8f2e96b-43e0-40e3-cdac-746be4d96a09"
      },
      "execution_count": 5,
      "outputs": [
        {
          "output_type": "stream",
          "name": "stdout",
          "text": [
            "Top 5 nodes having highest hub scores:\n",
            "politicalstrategy.org\n",
            "madkane.com/notable.html\n",
            "liberaloasis.com\n",
            "stagefour.typepad.com/commonprejudice\n",
            "bodyandsoul.typepad.com\n"
          ]
        }
      ]
    },
    {
      "cell_type": "markdown",
      "source": [
        "Q7 Five nodes with highest authority scores."
      ],
      "metadata": {
        "id": "Ga4jBCmLknZL"
      }
    },
    {
      "cell_type": "code",
      "source": [
        "_,authority= nx.hits(G2)\n",
        "top = sorted(authority, key=authority.get, reverse=True)[:5]\n",
        "print(\"Top 5 nodes having highest authority scores:\")\n",
        "for node in top:\n",
        "    print(node)"
      ],
      "metadata": {
        "colab": {
          "base_uri": "https://localhost:8080/"
        },
        "id": "Nv-eCP-YktiD",
        "outputId": "06fdcbb5-f0a0-40f2-e1e8-912f03f8492d"
      },
      "execution_count": 7,
      "outputs": [
        {
          "output_type": "stream",
          "name": "stdout",
          "text": [
            "Top 5 nodes having highest authority scores:\n",
            "dailykos.com\n",
            "talkingpointsmemo.com\n",
            "atrios.blogspot.com\n",
            "washingtonmonthly.com\n",
            "talkleft.com\n"
          ]
        }
      ]
    }
  ]
}