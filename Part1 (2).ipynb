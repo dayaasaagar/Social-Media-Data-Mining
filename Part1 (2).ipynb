{
  "nbformat": 4,
  "nbformat_minor": 0,
  "metadata": {
    "colab": {
      "provenance": []
    },
    "kernelspec": {
      "name": "python3",
      "display_name": "Python 3"
    },
    "language_info": {
      "name": "python"
    }
  },
  "cells": [
    {
      "cell_type": "code",
      "execution_count": null,
      "metadata": {
        "id": "zV-fYZclmRMB"
      },
      "outputs": [],
      "source": [
        "import networkx as nx\n",
        "\n",
        "#added the input file\n",
        "file_path = \"/content/sample_data/friends.gml\"\n",
        "G1 = nx.read_gml(file_path)"
      ]
    },
    {
      "cell_type": "code",
      "source": [],
      "metadata": {
        "id": "YLGP9Gjt0iKS"
      },
      "execution_count": null,
      "outputs": []
    },
    {
      "cell_type": "markdown",
      "source": [
        "To find the a)degree centrality b)closeness centrality c)normalized betweeness centrality"
      ],
      "metadata": {
        "id": "6ZlMa_XR0i3V"
      }
    },
    {
      "cell_type": "code",
      "source": [
        "\n",
        "\n",
        "# calculating centrality measures as shown below\n",
        "nodeid = 100\n",
        "degreecentrality = nx.degree_centrality(G1)\n",
        "closenesscentrality = nx.closeness_centrality(G1)\n",
        "betweennesscentrality = nx.betweenness_centrality(G1, normalized=True)\n",
        "\n",
        "# Print the centrality measures for node 100\n",
        "print(f\"Node: {nodeid}\")\n",
        "print(f\"Degree Centrality: {degreecentrality[node_id]}\")\n",
        "print(f\"Closeness Centrality: {closenesscentrality[node_id]}\")\n",
        "print(f\"Normalized Betweenness Centrality: {betweennesscentrality[node_id]}\")"
      ],
      "metadata": {
        "colab": {
          "base_uri": "https://localhost:8080/"
        },
        "id": "WuVpAIK1ws7_",
        "outputId": "1e52776a-7f96-4ec3-cf73-c66b44768eef"
      },
      "execution_count": null,
      "outputs": [
        {
          "output_type": "stream",
          "name": "stdout",
          "text": [
            "Node: 100\n",
            "Degree Centrality: 0.0026501766784452294\n",
            "Closeness Centrality: 0.2654784240150094\n",
            "Normalized Betweenness Centrality: 7.142902633244772e-05\n"
          ]
        }
      ]
    },
    {
      "cell_type": "markdown",
      "source": [],
      "metadata": {
        "id": "3_nlQdeGR7VX"
      }
    },
    {
      "cell_type": "markdown",
      "source": [
        "#Q2 The question asks us to find out the user who has the maximum reach with one step. To do this we have to use degree of centrality."
      ],
      "metadata": {
        "id": "gqevY4AAbdab"
      }
    },
    {
      "cell_type": "code",
      "source": [
        "degreeofcentrality = nx.degree_centrality(G1)\n",
        "bestuser= max(degreeofcentrality,key=degreeofcentrality.get)\n",
        "print(f\"User who has the maximum reach with one step is {bestuser}\")"
      ],
      "metadata": {
        "id": "wP3RUKHvxvOi",
        "colab": {
          "base_uri": "https://localhost:8080/"
        },
        "outputId": "64f98e22-d5d4-4fea-e48b-ba34b0c67ee6"
      },
      "execution_count": 18,
      "outputs": [
        {
          "output_type": "stream",
          "name": "stdout",
          "text": [
            "User who has the maximum reach with one step is 105\n"
          ]
        }
      ]
    },
    {
      "cell_type": "markdown",
      "source": [
        "#Q3 The question asks us to identify the candidate in the network for distributing the voucher to reach all the nodes with the least number of hops. To do this we can use BFS. BFS finds the shortest path from one node to another node. By identifying the shortest path we can say that the voucher reaches all the nodes in the fewest hops."
      ],
      "metadata": {
        "id": "h0I5yPOwcmTb"
      }
    },
    {
      "cell_type": "code",
      "source": [
        "def candidate(g):\n",
        "  best_candidate = None\n",
        "  min_avg_distance = float('inf') #Initialize with infinity\n",
        "\n",
        "  for node in g.nodes():\n",
        "    #calculating the bfs to calculate distance  from the current node to other node\n",
        "    d = nx.shortest_path_length(g,source=node)\n",
        "\n",
        "    #calculate the average of such distances\n",
        "    average= sum(d.values()) / len(d)\n",
        "\n",
        "\n",
        "    if average < min_avg_distance:\n",
        "      best_candidate=node\n",
        "      min_avg_distance = average\n",
        "  return best_candidate\n",
        "best_candidate= candidate(G1)\n",
        "print(f\"The candidate that can reach all nodes in fewer hops is {best_candidate}\")"
      ],
      "metadata": {
        "colab": {
          "base_uri": "https://localhost:8080/"
        },
        "id": "iiuTvpWYdDhV",
        "outputId": "49664d62-2e17-47a0-f159-068c7bbaf50f"
      },
      "execution_count": 22,
      "outputs": [
        {
          "output_type": "stream",
          "name": "stdout",
          "text": [
            "The candidate that can reach all nodes in fewer hops is 23\n"
          ]
        }
      ]
    }
  ]
}